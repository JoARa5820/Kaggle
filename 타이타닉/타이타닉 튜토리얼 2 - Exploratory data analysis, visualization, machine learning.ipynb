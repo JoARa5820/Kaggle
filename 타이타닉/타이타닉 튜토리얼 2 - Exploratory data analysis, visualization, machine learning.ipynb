{
 "cells": [
  {
   "cell_type": "code",
   "execution_count": 88,
   "id": "0421ee64",
   "metadata": {},
   "outputs": [],
   "source": [
    "import numpy as np\n",
    "import pandas as pd\n",
    "from pandas import Series\n",
    "import matplotlib.pyplot as plt\n",
    "import seaborn as sns"
   ]
  },
  {
   "cell_type": "code",
   "execution_count": 89,
   "id": "84550150",
   "metadata": {},
   "outputs": [],
   "source": [
    "# matplotlib 의 기본 scheme 말고 seaborn scheme 을 세팅하고, 일일이 graph 의 font size 를 지정할 필요 없이 seaborn 의 font_scale 을 사용하면 편합니다.\n",
    "plt.style.use('seaborn')\n",
    "sns.set(font_scale = 2.5)"
   ]
  },
  {
   "cell_type": "code",
   "execution_count": 90,
   "id": "9974d9d8",
   "metadata": {},
   "outputs": [],
   "source": [
    "# pip install plotly"
   ]
  },
  {
   "cell_type": "code",
   "execution_count": 91,
   "id": "8e0201a5",
   "metadata": {},
   "outputs": [
    {
     "data": {
      "text/html": [
       "        <script type=\"text/javascript\">\n",
       "        window.PlotlyConfig = {MathJaxConfig: 'local'};\n",
       "        if (window.MathJax) {MathJax.Hub.Config({SVG: {font: \"STIX-Web\"}});}\n",
       "        if (typeof require !== 'undefined') {\n",
       "        require.undef(\"plotly\");\n",
       "        requirejs.config({\n",
       "            paths: {\n",
       "                'plotly': ['https://cdn.plot.ly/plotly-2.8.3.min']\n",
       "            }\n",
       "        });\n",
       "        require(['plotly'], function(Plotly) {\n",
       "            window._Plotly = Plotly;\n",
       "        });\n",
       "        }\n",
       "        </script>\n",
       "        "
      ]
     },
     "metadata": {},
     "output_type": "display_data"
    }
   ],
   "source": [
    "import plotly.offline as py\n",
    "py.init_notebook_mode(connected = True)"
   ]
  },
  {
   "cell_type": "code",
   "execution_count": 92,
   "id": "35657814",
   "metadata": {},
   "outputs": [],
   "source": [
    "import plotly.graph_objs as go\n",
    "import plotly.tools as tls"
   ]
  },
  {
   "cell_type": "code",
   "execution_count": 93,
   "id": "a45e5f1c",
   "metadata": {},
   "outputs": [],
   "source": [
    "import warnings\n",
    "warnings.filterwarnings('ignore')"
   ]
  },
  {
   "cell_type": "code",
   "execution_count": 94,
   "id": "e5f37820",
   "metadata": {},
   "outputs": [],
   "source": [
    "%matplotlib inline"
   ]
  },
  {
   "cell_type": "code",
   "execution_count": 95,
   "id": "bcdd61ed",
   "metadata": {},
   "outputs": [],
   "source": [
    "train = pd.read_csv('train.csv')\n",
    "test = pd.read_csv('test.csv')"
   ]
  },
  {
   "cell_type": "code",
   "execution_count": 96,
   "id": "f6259b30",
   "metadata": {},
   "outputs": [],
   "source": [
    "train['FamilySize'] = train['SibSp'] + train['Parch'] + 1  # 자신 포함해야해서 1 더함\n",
    "test['FamilySize'] = test['SibSp'] + test['Parch'] + 1  # 자신 포함해야해서 1 더함"
   ]
  },
  {
   "cell_type": "code",
   "execution_count": 97,
   "id": "2a2e2c45",
   "metadata": {},
   "outputs": [
    {
     "data": {
      "text/html": [
       "<div>\n",
       "<style scoped>\n",
       "    .dataframe tbody tr th:only-of-type {\n",
       "        vertical-align: middle;\n",
       "    }\n",
       "\n",
       "    .dataframe tbody tr th {\n",
       "        vertical-align: top;\n",
       "    }\n",
       "\n",
       "    .dataframe thead th {\n",
       "        text-align: right;\n",
       "    }\n",
       "</style>\n",
       "<table border=\"1\" class=\"dataframe\">\n",
       "  <thead>\n",
       "    <tr style=\"text-align: right;\">\n",
       "      <th></th>\n",
       "      <th>PassengerId</th>\n",
       "      <th>Survived</th>\n",
       "      <th>Pclass</th>\n",
       "      <th>Name</th>\n",
       "      <th>Sex</th>\n",
       "      <th>Age</th>\n",
       "      <th>SibSp</th>\n",
       "      <th>Parch</th>\n",
       "      <th>Ticket</th>\n",
       "      <th>Fare</th>\n",
       "      <th>Cabin</th>\n",
       "      <th>Embarked</th>\n",
       "      <th>FamilySize</th>\n",
       "    </tr>\n",
       "  </thead>\n",
       "  <tbody>\n",
       "    <tr>\n",
       "      <th>0</th>\n",
       "      <td>1</td>\n",
       "      <td>0</td>\n",
       "      <td>3</td>\n",
       "      <td>Braund, Mr. Owen Harris</td>\n",
       "      <td>male</td>\n",
       "      <td>22.0</td>\n",
       "      <td>1</td>\n",
       "      <td>0</td>\n",
       "      <td>A/5 21171</td>\n",
       "      <td>7.2500</td>\n",
       "      <td>NaN</td>\n",
       "      <td>S</td>\n",
       "      <td>2</td>\n",
       "    </tr>\n",
       "    <tr>\n",
       "      <th>1</th>\n",
       "      <td>2</td>\n",
       "      <td>1</td>\n",
       "      <td>1</td>\n",
       "      <td>Cumings, Mrs. John Bradley (Florence Briggs Th...</td>\n",
       "      <td>female</td>\n",
       "      <td>38.0</td>\n",
       "      <td>1</td>\n",
       "      <td>0</td>\n",
       "      <td>PC 17599</td>\n",
       "      <td>71.2833</td>\n",
       "      <td>C85</td>\n",
       "      <td>C</td>\n",
       "      <td>2</td>\n",
       "    </tr>\n",
       "    <tr>\n",
       "      <th>2</th>\n",
       "      <td>3</td>\n",
       "      <td>1</td>\n",
       "      <td>3</td>\n",
       "      <td>Heikkinen, Miss. Laina</td>\n",
       "      <td>female</td>\n",
       "      <td>26.0</td>\n",
       "      <td>0</td>\n",
       "      <td>0</td>\n",
       "      <td>STON/O2. 3101282</td>\n",
       "      <td>7.9250</td>\n",
       "      <td>NaN</td>\n",
       "      <td>S</td>\n",
       "      <td>1</td>\n",
       "    </tr>\n",
       "  </tbody>\n",
       "</table>\n",
       "</div>"
      ],
      "text/plain": [
       "   PassengerId  Survived  Pclass  \\\n",
       "0            1         0       3   \n",
       "1            2         1       1   \n",
       "2            3         1       3   \n",
       "\n",
       "                                                Name     Sex   Age  SibSp  \\\n",
       "0                            Braund, Mr. Owen Harris    male  22.0      1   \n",
       "1  Cumings, Mrs. John Bradley (Florence Briggs Th...  female  38.0      1   \n",
       "2                             Heikkinen, Miss. Laina  female  26.0      0   \n",
       "\n",
       "   Parch            Ticket     Fare Cabin Embarked  FamilySize  \n",
       "0      0         A/5 21171   7.2500   NaN        S           2  \n",
       "1      0          PC 17599  71.2833   C85        C           2  \n",
       "2      0  STON/O2. 3101282   7.9250   NaN        S           1  "
      ]
     },
     "execution_count": 97,
     "metadata": {},
     "output_type": "execute_result"
    }
   ],
   "source": [
    "train.head(3)"
   ]
  },
  {
   "cell_type": "code",
   "execution_count": 98,
   "id": "c538644e",
   "metadata": {},
   "outputs": [],
   "source": [
    "test.loc[test.Fare.isnull(),'Fare'] = test['Fare'].mean()"
   ]
  },
  {
   "cell_type": "code",
   "execution_count": 99,
   "id": "3939de43",
   "metadata": {},
   "outputs": [],
   "source": [
    "train['Fare'] = train['Fare'].map(lambda i : np.log(i) if i > 0 else 0)\n",
    "test['Fare'] = test['Fare'].map(lambda i : np.log(i) if i > 0 else 0)"
   ]
  },
  {
   "cell_type": "markdown",
   "id": "710038ea",
   "metadata": {},
   "source": [
    "# 3. Feature engineering"
   ]
  },
  {
   "cell_type": "code",
   "execution_count": 100,
   "id": "e1ca5ca0",
   "metadata": {},
   "outputs": [],
   "source": [
    "# null data 를 어떻게 채우느냐에 따라 모델의 성능이 좌지우지 될 수 있기 때문에, 신경써줘야할 부분입니다.\n",
    "# Feature engineering 은 실제 모델의 학습에 쓰려고 하는 것이므로, train 뿐만 아니라 test 도 똑같이 적용해주어야 합니다."
   ]
  },
  {
   "cell_type": "markdown",
   "id": "d8b9ca83",
   "metadata": {},
   "source": [
    "## 3.1 Fill Null"
   ]
  },
  {
   "cell_type": "markdown",
   "id": "f726538a",
   "metadata": {},
   "source": [
    "### 3.1.1 Fill Null in Age using title"
   ]
  },
  {
   "cell_type": "code",
   "execution_count": 101,
   "id": "afbeb345",
   "metadata": {},
   "outputs": [],
   "source": [
    "# Miss, Mrr, Mrs 같은 title 추출\n",
    "train['Initial'] = train['Name'].str.extract('([A-Za-z]+)\\.')\n",
    "test['Initial'] = test['Name'].str.extract('([A-Za-z]+)\\.')"
   ]
  },
  {
   "cell_type": "code",
   "execution_count": 102,
   "id": "b0c3d746",
   "metadata": {},
   "outputs": [
    {
     "data": {
      "text/html": [
       "<style type=\"text/css\">\n",
       "#T_6aeef_row0_col0, #T_6aeef_row0_col1, #T_6aeef_row0_col3, #T_6aeef_row0_col4, #T_6aeef_row0_col5, #T_6aeef_row0_col7, #T_6aeef_row0_col8, #T_6aeef_row0_col12, #T_6aeef_row0_col15, #T_6aeef_row0_col16, #T_6aeef_row1_col2, #T_6aeef_row1_col6, #T_6aeef_row1_col9, #T_6aeef_row1_col10, #T_6aeef_row1_col11, #T_6aeef_row1_col13, #T_6aeef_row1_col14 {\n",
       "  background-color: #ffff66;\n",
       "  color: #000000;\n",
       "}\n",
       "#T_6aeef_row0_col2, #T_6aeef_row0_col6, #T_6aeef_row0_col9, #T_6aeef_row0_col10, #T_6aeef_row0_col11, #T_6aeef_row0_col13, #T_6aeef_row0_col14, #T_6aeef_row1_col0, #T_6aeef_row1_col1, #T_6aeef_row1_col3, #T_6aeef_row1_col4, #T_6aeef_row1_col5, #T_6aeef_row1_col7, #T_6aeef_row1_col8, #T_6aeef_row1_col12, #T_6aeef_row1_col15, #T_6aeef_row1_col16 {\n",
       "  background-color: #008066;\n",
       "  color: #f1f1f1;\n",
       "}\n",
       "</style>\n",
       "<table id=\"T_6aeef_\">\n",
       "  <thead>\n",
       "    <tr>\n",
       "      <th class=\"index_name level0\" >Initial</th>\n",
       "      <th class=\"col_heading level0 col0\" >Capt</th>\n",
       "      <th class=\"col_heading level0 col1\" >Col</th>\n",
       "      <th class=\"col_heading level0 col2\" >Countess</th>\n",
       "      <th class=\"col_heading level0 col3\" >Don</th>\n",
       "      <th class=\"col_heading level0 col4\" >Dr</th>\n",
       "      <th class=\"col_heading level0 col5\" >Jonkheer</th>\n",
       "      <th class=\"col_heading level0 col6\" >Lady</th>\n",
       "      <th class=\"col_heading level0 col7\" >Major</th>\n",
       "      <th class=\"col_heading level0 col8\" >Master</th>\n",
       "      <th class=\"col_heading level0 col9\" >Miss</th>\n",
       "      <th class=\"col_heading level0 col10\" >Mlle</th>\n",
       "      <th class=\"col_heading level0 col11\" >Mme</th>\n",
       "      <th class=\"col_heading level0 col12\" >Mr</th>\n",
       "      <th class=\"col_heading level0 col13\" >Mrs</th>\n",
       "      <th class=\"col_heading level0 col14\" >Ms</th>\n",
       "      <th class=\"col_heading level0 col15\" >Rev</th>\n",
       "      <th class=\"col_heading level0 col16\" >Sir</th>\n",
       "    </tr>\n",
       "    <tr>\n",
       "      <th class=\"index_name level0\" >Sex</th>\n",
       "      <th class=\"blank col0\" >&nbsp;</th>\n",
       "      <th class=\"blank col1\" >&nbsp;</th>\n",
       "      <th class=\"blank col2\" >&nbsp;</th>\n",
       "      <th class=\"blank col3\" >&nbsp;</th>\n",
       "      <th class=\"blank col4\" >&nbsp;</th>\n",
       "      <th class=\"blank col5\" >&nbsp;</th>\n",
       "      <th class=\"blank col6\" >&nbsp;</th>\n",
       "      <th class=\"blank col7\" >&nbsp;</th>\n",
       "      <th class=\"blank col8\" >&nbsp;</th>\n",
       "      <th class=\"blank col9\" >&nbsp;</th>\n",
       "      <th class=\"blank col10\" >&nbsp;</th>\n",
       "      <th class=\"blank col11\" >&nbsp;</th>\n",
       "      <th class=\"blank col12\" >&nbsp;</th>\n",
       "      <th class=\"blank col13\" >&nbsp;</th>\n",
       "      <th class=\"blank col14\" >&nbsp;</th>\n",
       "      <th class=\"blank col15\" >&nbsp;</th>\n",
       "      <th class=\"blank col16\" >&nbsp;</th>\n",
       "    </tr>\n",
       "  </thead>\n",
       "  <tbody>\n",
       "    <tr>\n",
       "      <th id=\"T_6aeef_level0_row0\" class=\"row_heading level0 row0\" >female</th>\n",
       "      <td id=\"T_6aeef_row0_col0\" class=\"data row0 col0\" >0</td>\n",
       "      <td id=\"T_6aeef_row0_col1\" class=\"data row0 col1\" >0</td>\n",
       "      <td id=\"T_6aeef_row0_col2\" class=\"data row0 col2\" >1</td>\n",
       "      <td id=\"T_6aeef_row0_col3\" class=\"data row0 col3\" >0</td>\n",
       "      <td id=\"T_6aeef_row0_col4\" class=\"data row0 col4\" >1</td>\n",
       "      <td id=\"T_6aeef_row0_col5\" class=\"data row0 col5\" >0</td>\n",
       "      <td id=\"T_6aeef_row0_col6\" class=\"data row0 col6\" >1</td>\n",
       "      <td id=\"T_6aeef_row0_col7\" class=\"data row0 col7\" >0</td>\n",
       "      <td id=\"T_6aeef_row0_col8\" class=\"data row0 col8\" >0</td>\n",
       "      <td id=\"T_6aeef_row0_col9\" class=\"data row0 col9\" >182</td>\n",
       "      <td id=\"T_6aeef_row0_col10\" class=\"data row0 col10\" >2</td>\n",
       "      <td id=\"T_6aeef_row0_col11\" class=\"data row0 col11\" >1</td>\n",
       "      <td id=\"T_6aeef_row0_col12\" class=\"data row0 col12\" >0</td>\n",
       "      <td id=\"T_6aeef_row0_col13\" class=\"data row0 col13\" >125</td>\n",
       "      <td id=\"T_6aeef_row0_col14\" class=\"data row0 col14\" >1</td>\n",
       "      <td id=\"T_6aeef_row0_col15\" class=\"data row0 col15\" >0</td>\n",
       "      <td id=\"T_6aeef_row0_col16\" class=\"data row0 col16\" >0</td>\n",
       "    </tr>\n",
       "    <tr>\n",
       "      <th id=\"T_6aeef_level0_row1\" class=\"row_heading level0 row1\" >male</th>\n",
       "      <td id=\"T_6aeef_row1_col0\" class=\"data row1 col0\" >1</td>\n",
       "      <td id=\"T_6aeef_row1_col1\" class=\"data row1 col1\" >2</td>\n",
       "      <td id=\"T_6aeef_row1_col2\" class=\"data row1 col2\" >0</td>\n",
       "      <td id=\"T_6aeef_row1_col3\" class=\"data row1 col3\" >1</td>\n",
       "      <td id=\"T_6aeef_row1_col4\" class=\"data row1 col4\" >6</td>\n",
       "      <td id=\"T_6aeef_row1_col5\" class=\"data row1 col5\" >1</td>\n",
       "      <td id=\"T_6aeef_row1_col6\" class=\"data row1 col6\" >0</td>\n",
       "      <td id=\"T_6aeef_row1_col7\" class=\"data row1 col7\" >2</td>\n",
       "      <td id=\"T_6aeef_row1_col8\" class=\"data row1 col8\" >40</td>\n",
       "      <td id=\"T_6aeef_row1_col9\" class=\"data row1 col9\" >0</td>\n",
       "      <td id=\"T_6aeef_row1_col10\" class=\"data row1 col10\" >0</td>\n",
       "      <td id=\"T_6aeef_row1_col11\" class=\"data row1 col11\" >0</td>\n",
       "      <td id=\"T_6aeef_row1_col12\" class=\"data row1 col12\" >517</td>\n",
       "      <td id=\"T_6aeef_row1_col13\" class=\"data row1 col13\" >0</td>\n",
       "      <td id=\"T_6aeef_row1_col14\" class=\"data row1 col14\" >0</td>\n",
       "      <td id=\"T_6aeef_row1_col15\" class=\"data row1 col15\" >6</td>\n",
       "      <td id=\"T_6aeef_row1_col16\" class=\"data row1 col16\" >1</td>\n",
       "    </tr>\n",
       "  </tbody>\n",
       "</table>\n"
      ],
      "text/plain": [
       "<pandas.io.formats.style.Styler at 0x24ba2230550>"
      ]
     },
     "execution_count": 102,
     "metadata": {},
     "output_type": "execute_result"
    }
   ],
   "source": [
    "# Initial 과 Sex 간의 count 를 살펴봅시다.\n",
    "pd.crosstab(train['Initial'], train['Sex']).T.style.background_gradient(cmap='summer_r')"
   ]
  },
  {
   "cell_type": "code",
   "execution_count": 103,
   "id": "8e19b896",
   "metadata": {},
   "outputs": [],
   "source": [
    "train['Initial'].replace(['Mlle','Mme','Ms','Dr','Major','Lady','Countess','Jonkheer','Col','Rev','Capt','Sir','Don', 'Dona'],\n",
    "                         ['Miss','Miss','Miss','Mr','Mr','Mrs','Mrs','Other','Other','Other','Mr','Mr','Mr', 'Mr'],inplace=True)\n",
    "\n",
    "test['Initial'].replace(['Mlle','Mme','Ms','Dr','Major','Lady','Countess','Jonkheer','Col','Rev','Capt','Sir','Don', 'Dona'],\n",
    "                        ['Miss','Miss','Miss','Mr','Mr','Mrs','Mrs','Other','Other','Other','Mr','Mr','Mr', 'Mr'],inplace=True)"
   ]
  },
  {
   "cell_type": "code",
   "execution_count": 104,
   "id": "a9247ab4",
   "metadata": {},
   "outputs": [
    {
     "data": {
      "text/html": [
       "<div>\n",
       "<style scoped>\n",
       "    .dataframe tbody tr th:only-of-type {\n",
       "        vertical-align: middle;\n",
       "    }\n",
       "\n",
       "    .dataframe tbody tr th {\n",
       "        vertical-align: top;\n",
       "    }\n",
       "\n",
       "    .dataframe thead th {\n",
       "        text-align: right;\n",
       "    }\n",
       "</style>\n",
       "<table border=\"1\" class=\"dataframe\">\n",
       "  <thead>\n",
       "    <tr style=\"text-align: right;\">\n",
       "      <th></th>\n",
       "      <th>PassengerId</th>\n",
       "      <th>Survived</th>\n",
       "      <th>Pclass</th>\n",
       "      <th>Age</th>\n",
       "      <th>SibSp</th>\n",
       "      <th>Parch</th>\n",
       "      <th>Fare</th>\n",
       "      <th>FamilySize</th>\n",
       "    </tr>\n",
       "    <tr>\n",
       "      <th>Initial</th>\n",
       "      <th></th>\n",
       "      <th></th>\n",
       "      <th></th>\n",
       "      <th></th>\n",
       "      <th></th>\n",
       "      <th></th>\n",
       "      <th></th>\n",
       "      <th></th>\n",
       "    </tr>\n",
       "  </thead>\n",
       "  <tbody>\n",
       "    <tr>\n",
       "      <th>Master</th>\n",
       "      <td>414.975000</td>\n",
       "      <td>0.575000</td>\n",
       "      <td>2.625000</td>\n",
       "      <td>4.574167</td>\n",
       "      <td>2.300000</td>\n",
       "      <td>1.375000</td>\n",
       "      <td>3.340710</td>\n",
       "      <td>4.675000</td>\n",
       "    </tr>\n",
       "    <tr>\n",
       "      <th>Miss</th>\n",
       "      <td>411.741935</td>\n",
       "      <td>0.704301</td>\n",
       "      <td>2.284946</td>\n",
       "      <td>21.860000</td>\n",
       "      <td>0.698925</td>\n",
       "      <td>0.537634</td>\n",
       "      <td>3.123713</td>\n",
       "      <td>2.236559</td>\n",
       "    </tr>\n",
       "    <tr>\n",
       "      <th>Mr</th>\n",
       "      <td>455.880907</td>\n",
       "      <td>0.162571</td>\n",
       "      <td>2.381853</td>\n",
       "      <td>32.739609</td>\n",
       "      <td>0.293006</td>\n",
       "      <td>0.151229</td>\n",
       "      <td>2.651507</td>\n",
       "      <td>1.444234</td>\n",
       "    </tr>\n",
       "    <tr>\n",
       "      <th>Mrs</th>\n",
       "      <td>456.393701</td>\n",
       "      <td>0.795276</td>\n",
       "      <td>1.984252</td>\n",
       "      <td>35.981818</td>\n",
       "      <td>0.692913</td>\n",
       "      <td>0.818898</td>\n",
       "      <td>3.443751</td>\n",
       "      <td>2.511811</td>\n",
       "    </tr>\n",
       "    <tr>\n",
       "      <th>Other</th>\n",
       "      <td>564.444444</td>\n",
       "      <td>0.111111</td>\n",
       "      <td>1.666667</td>\n",
       "      <td>45.888889</td>\n",
       "      <td>0.111111</td>\n",
       "      <td>0.111111</td>\n",
       "      <td>2.641605</td>\n",
       "      <td>1.222222</td>\n",
       "    </tr>\n",
       "  </tbody>\n",
       "</table>\n",
       "</div>"
      ],
      "text/plain": [
       "         PassengerId  Survived    Pclass        Age     SibSp     Parch  \\\n",
       "Initial                                                                   \n",
       "Master    414.975000  0.575000  2.625000   4.574167  2.300000  1.375000   \n",
       "Miss      411.741935  0.704301  2.284946  21.860000  0.698925  0.537634   \n",
       "Mr        455.880907  0.162571  2.381853  32.739609  0.293006  0.151229   \n",
       "Mrs       456.393701  0.795276  1.984252  35.981818  0.692913  0.818898   \n",
       "Other     564.444444  0.111111  1.666667  45.888889  0.111111  0.111111   \n",
       "\n",
       "             Fare  FamilySize  \n",
       "Initial                        \n",
       "Master   3.340710    4.675000  \n",
       "Miss     3.123713    2.236559  \n",
       "Mr       2.651507    1.444234  \n",
       "Mrs      3.443751    2.511811  \n",
       "Other    2.641605    1.222222  "
      ]
     },
     "execution_count": 104,
     "metadata": {},
     "output_type": "execute_result"
    }
   ],
   "source": [
    "train.groupby('Initial').mean()\n",
    "# => Master / Miss / Mrs 가 생존률이 높음"
   ]
  },
  {
   "cell_type": "code",
   "execution_count": 105,
   "id": "1d556e11",
   "metadata": {
    "scrolled": true
   },
   "outputs": [
    {
     "data": {
      "text/plain": [
       "Initial\n",
       "Master    0.575000\n",
       "Miss      0.704301\n",
       "Mr        0.162571\n",
       "Mrs       0.795276\n",
       "Other     0.111111\n",
       "Name: Survived, dtype: float64"
      ]
     },
     "execution_count": 105,
     "metadata": {},
     "output_type": "execute_result"
    }
   ],
   "source": [
    "train.groupby('Initial')['Survived'].mean()"
   ]
  },
  {
   "cell_type": "code",
   "execution_count": 106,
   "id": "2a0bc2c3",
   "metadata": {},
   "outputs": [
    {
     "data": {
      "text/plain": [
       "<AxesSubplot:xlabel='Initial'>"
      ]
     },
     "execution_count": 106,
     "metadata": {},
     "output_type": "execute_result"
    },
    {
     "data": {
      "image/png": "[encoded data removed]",
      "text/plain": [
       "<Figure size 432x288 with 1 Axes>"
      ]
     },
     "metadata": {
      "needs_background": "light"
     },
     "output_type": "display_data"
    }
   ],
   "source": [
    "train.groupby('Initial')['Survived'].mean().plot.bar()"
   ]
  },
  {
   "cell_type": "code",
   "execution_count": 107,
   "id": "67951859",
   "metadata": {},
   "outputs": [],
   "source": [
    "# # Null 값 채우는 방법 : \n",
    "# (1) statistics 를 활용하는 방법\n",
    "# (2) null data 가 없는 데이터를 기반으로 새로운 머신러닝 알고리즘을 만들어 예측해서 채워넣는 방식"
   ]
  },
  {
   "cell_type": "code",
   "execution_count": 108,
   "id": "b8727c04",
   "metadata": {},
   "outputs": [],
   "source": [
    "# 여기서 statistics 는 train data에서 얻은 값을 의미합니다.\n",
    "# 언제나 test는 unseen으로 둔 상태로 놔둬야 하며, train에서 얻은 statistics를 기반으로 test의 null data를 채워줘야 합니다."
   ]
  },
  {
   "cell_type": "code",
   "execution_count": 109,
   "id": "b60818b7",
   "metadata": {},
   "outputs": [
    {
     "data": {
      "text/html": [
       "<div>\n",
       "<style scoped>\n",
       "    .dataframe tbody tr th:only-of-type {\n",
       "        vertical-align: middle;\n",
       "    }\n",
       "\n",
       "    .dataframe tbody tr th {\n",
       "        vertical-align: top;\n",
       "    }\n",
       "\n",
       "    .dataframe thead th {\n",
       "        text-align: right;\n",
       "    }\n",
       "</style>\n",
       "<table border=\"1\" class=\"dataframe\">\n",
       "  <thead>\n",
       "    <tr style=\"text-align: right;\">\n",
       "      <th></th>\n",
       "      <th>PassengerId</th>\n",
       "      <th>Survived</th>\n",
       "      <th>Pclass</th>\n",
       "      <th>Age</th>\n",
       "      <th>SibSp</th>\n",
       "      <th>Parch</th>\n",
       "      <th>Fare</th>\n",
       "      <th>FamilySize</th>\n",
       "    </tr>\n",
       "    <tr>\n",
       "      <th>Initial</th>\n",
       "      <th></th>\n",
       "      <th></th>\n",
       "      <th></th>\n",
       "      <th></th>\n",
       "      <th></th>\n",
       "      <th></th>\n",
       "      <th></th>\n",
       "      <th></th>\n",
       "    </tr>\n",
       "  </thead>\n",
       "  <tbody>\n",
       "    <tr>\n",
       "      <th>Master</th>\n",
       "      <td>414.975000</td>\n",
       "      <td>0.575000</td>\n",
       "      <td>2.625000</td>\n",
       "      <td>4.574167</td>\n",
       "      <td>2.300000</td>\n",
       "      <td>1.375000</td>\n",
       "      <td>3.340710</td>\n",
       "      <td>4.675000</td>\n",
       "    </tr>\n",
       "    <tr>\n",
       "      <th>Miss</th>\n",
       "      <td>411.741935</td>\n",
       "      <td>0.704301</td>\n",
       "      <td>2.284946</td>\n",
       "      <td>21.860000</td>\n",
       "      <td>0.698925</td>\n",
       "      <td>0.537634</td>\n",
       "      <td>3.123713</td>\n",
       "      <td>2.236559</td>\n",
       "    </tr>\n",
       "    <tr>\n",
       "      <th>Mr</th>\n",
       "      <td>455.880907</td>\n",
       "      <td>0.162571</td>\n",
       "      <td>2.381853</td>\n",
       "      <td>32.739609</td>\n",
       "      <td>0.293006</td>\n",
       "      <td>0.151229</td>\n",
       "      <td>2.651507</td>\n",
       "      <td>1.444234</td>\n",
       "    </tr>\n",
       "    <tr>\n",
       "      <th>Mrs</th>\n",
       "      <td>456.393701</td>\n",
       "      <td>0.795276</td>\n",
       "      <td>1.984252</td>\n",
       "      <td>35.981818</td>\n",
       "      <td>0.692913</td>\n",
       "      <td>0.818898</td>\n",
       "      <td>3.443751</td>\n",
       "      <td>2.511811</td>\n",
       "    </tr>\n",
       "    <tr>\n",
       "      <th>Other</th>\n",
       "      <td>564.444444</td>\n",
       "      <td>0.111111</td>\n",
       "      <td>1.666667</td>\n",
       "      <td>45.888889</td>\n",
       "      <td>0.111111</td>\n",
       "      <td>0.111111</td>\n",
       "      <td>2.641605</td>\n",
       "      <td>1.222222</td>\n",
       "    </tr>\n",
       "  </tbody>\n",
       "</table>\n",
       "</div>"
      ],
      "text/plain": [
       "         PassengerId  Survived    Pclass        Age     SibSp     Parch  \\\n",
       "Initial                                                                   \n",
       "Master    414.975000  0.575000  2.625000   4.574167  2.300000  1.375000   \n",
       "Miss      411.741935  0.704301  2.284946  21.860000  0.698925  0.537634   \n",
       "Mr        455.880907  0.162571  2.381853  32.739609  0.293006  0.151229   \n",
       "Mrs       456.393701  0.795276  1.984252  35.981818  0.692913  0.818898   \n",
       "Other     564.444444  0.111111  1.666667  45.888889  0.111111  0.111111   \n",
       "\n",
       "             Fare  FamilySize  \n",
       "Initial                        \n",
       "Master   3.340710    4.675000  \n",
       "Miss     3.123713    2.236559  \n",
       "Mr       2.651507    1.444234  \n",
       "Mrs      3.443751    2.511811  \n",
       "Other    2.641605    1.222222  "
      ]
     },
     "execution_count": 109,
     "metadata": {},
     "output_type": "execute_result"
    }
   ],
   "source": [
    "train.groupby('Initial').mean()"
   ]
  },
  {
   "cell_type": "code",
   "execution_count": 110,
   "id": "2ad71921",
   "metadata": {},
   "outputs": [],
   "source": [
    "# 대충 null값 채우기\n",
    "train.loc[(train.Age.isnull())&(train.Initial=='Mr'),'Age'] = 33\n",
    "train.loc[(train.Age.isnull())&(train.Initial=='Mrs'),'Age'] = 36\n",
    "train.loc[(train.Age.isnull())&(train.Initial=='Master'),'Age'] = 5\n",
    "train.loc[(train.Age.isnull())&(train.Initial=='Miss'),'Age'] = 22\n",
    "train.loc[(train.Age.isnull())&(train.Initial=='Other'),'Age'] = 46\n",
    "\n",
    "test.loc[(test.Age.isnull())&(test.Initial=='Mr'),'Age'] = 33\n",
    "test.loc[(test.Age.isnull())&(test.Initial=='Mrs'),'Age'] = 36\n",
    "test.loc[(test.Age.isnull())&(test.Initial=='Master'),'Age'] = 5\n",
    "test.loc[(test.Age.isnull())&(test.Initial=='Miss'),'Age'] = 22\n",
    "test.loc[(test.Age.isnull())&(test.Initial=='Other'),'Age'] = 46"
   ]
  },
  {
   "cell_type": "markdown",
   "id": "38991407",
   "metadata": {},
   "source": [
    "### 3.1.2 Fill Null in Embarked"
   ]
  },
  {
   "cell_type": "code",
   "execution_count": 111,
   "id": "ca578cbe",
   "metadata": {},
   "outputs": [
    {
     "name": "stdout",
     "output_type": "stream",
     "text": [
      "Embarked has 2 Null values\n"
     ]
    }
   ],
   "source": [
    "print('Embarked has',sum(train['Embarked'].isnull()), 'Null values')"
   ]
  },
  {
   "cell_type": "code",
   "execution_count": 112,
   "id": "a27049bb",
   "metadata": {},
   "outputs": [],
   "source": [
    "# Embarked 는 Null value 가 2개이고, S 에서 가장 많은 탑승객이 있었으므로, 간단하게 Null 을 S로 채우겠습니다.\n",
    "train['Embarked'].fillna('S', inplace=True)"
   ]
  },
  {
   "cell_type": "markdown",
   "id": "c9fb2f99",
   "metadata": {},
   "source": [
    "## 3.2 Change Age(continuous to categorical)"
   ]
  },
  {
   "cell_type": "code",
   "execution_count": 113,
   "id": "9c1bad78",
   "metadata": {},
   "outputs": [],
   "source": [
    "# Age는 현재 continuous feature 입니다. 이대로 써도 모델을 세울 수 있지만, Age를 몇개의 group으로 나누어 category화 시켜줄 수도 있습니다. continuous를 categorical로 바꾸면 자칫 information loss가 생길 수도 있습니다만, 본 튜토리얼에서는 다양한 방법을 소개하는 것이 목적이므로 진행하도록 하겠습니다."
   ]
  },
  {
   "cell_type": "code",
   "execution_count": 114,
   "id": "60d8f431",
   "metadata": {},
   "outputs": [],
   "source": [
    "## 귀찮은 방법\n",
    "# 10살 간격으로 나눔\n",
    "train['Age_cat'] = 0\n",
    "train.loc[train['Age'] < 10, 'Age_cat'] = 0\n",
    "train.loc[(10 <= train['Age']) & (train['Age'] < 20), 'Age_cat'] = 1\n",
    "train.loc[(20 <= train['Age']) & (train['Age'] < 30), 'Age_cat'] = 2\n",
    "train.loc[(30 <= train['Age']) & (train['Age'] < 40), 'Age_cat'] = 3\n",
    "train.loc[(40 <= train['Age']) & (train['Age'] < 50), 'Age_cat'] = 4\n",
    "train.loc[(50 <= train['Age']) & (train['Age'] < 60), 'Age_cat'] = 5\n",
    "train.loc[(60 <= train['Age']) & (train['Age'] < 70), 'Age_cat'] = 6\n",
    "train.loc[70 <= train['Age'], 'Age_cat'] = 7\n",
    "\n",
    "test['Age_cat'] = 0\n",
    "test.loc[test['Age'] < 10, 'Age_cat'] = 0\n",
    "test.loc[(10 <= test['Age']) & (test['Age'] < 20), 'Age_cat'] = 1\n",
    "test.loc[(20 <= test['Age']) & (test['Age'] < 30), 'Age_cat'] = 2\n",
    "test.loc[(30 <= test['Age']) & (test['Age'] < 40), 'Age_cat'] = 3\n",
    "test.loc[(40 <= test['Age']) & (test['Age'] < 50), 'Age_cat'] = 4\n",
    "test.loc[(50 <= test['Age']) & (test['Age'] < 60), 'Age_cat'] = 5\n",
    "test.loc[(60 <= test['Age']) & (test['Age'] < 70), 'Age_cat'] = 6\n",
    "test.loc[70 <= test['Age'], 'Age_cat'] = 7"
   ]
  },
  {
   "cell_type": "code",
   "execution_count": 115,
   "id": "c096a306",
   "metadata": {},
   "outputs": [],
   "source": [
    "# 함수 만들어서 apply 메소드에 넣어줌\n",
    "def category_age(x):\n",
    "    if x < 10:\n",
    "        return 0\n",
    "    elif x < 20:\n",
    "        return 1\n",
    "    elif x < 30:\n",
    "        return 2\n",
    "    elif x < 40:\n",
    "        return 3\n",
    "    elif x < 50:\n",
    "        return 4\n",
    "    elif x < 60:\n",
    "        return 5\n",
    "    elif x < 70:\n",
    "        return 6\n",
    "    else:\n",
    "        return 7    \n",
    "    \n",
    "train['Age_cat_2'] = train['Age'].apply(category_age)"
   ]
  },
  {
   "cell_type": "code",
   "execution_count": 116,
   "id": "d69ec439",
   "metadata": {},
   "outputs": [],
   "source": [
    "# 두가지 방법이 잘 적용됬다면, 둘다 같은 결과를 내야합니다.\n",
    "# 이를 확인하기 위해 Series 간 boolean 비교 후 all() 메소드를 사용합시다. all() 메소드는 모든 값이 True 면 True, 하나라도 False 가 있으면 False 를 줍니다."
   ]
  },
  {
   "cell_type": "code",
   "execution_count": 117,
   "id": "f472ee14",
   "metadata": {},
   "outputs": [
    {
     "name": "stdout",
     "output_type": "stream",
     "text": [
      "1번 방법, 2번 방법 둘다 같은 결과를 내면 True 줘야함 ->  True\n"
     ]
    }
   ],
   "source": [
    "print('1번 방법, 2번 방법 둘다 같은 결과를 내면 True 줘야함 -> ', (train['Age_cat'] == train['Age_cat_2']).all())"
   ]
  },
  {
   "cell_type": "code",
   "execution_count": 118,
   "id": "cc3b1fd6",
   "metadata": {},
   "outputs": [],
   "source": [
    "# => 둘 중 편한 걸 선택하시면 됩니다.\n",
    "#    중복되는 Age_cat 컬럼과 원래 컬럼 Age 를 제거"
   ]
  },
  {
   "cell_type": "code",
   "execution_count": 119,
   "id": "a15af84c",
   "metadata": {},
   "outputs": [],
   "source": [
    "train.drop(['Age','Age_cat_2'], axis = 1, inplace=True)\n",
    "test.drop(['Age'], axis = 1, inplace=True)"
   ]
  },
  {
   "cell_type": "markdown",
   "id": "54ec3947",
   "metadata": {},
   "source": [
    "## 3.3 Change Initial, Embarked and Sex (string to numerical)"
   ]
  },
  {
   "cell_type": "code",
   "execution_count": 120,
   "id": "08266b09",
   "metadata": {},
   "outputs": [],
   "source": [
    "# 현재 Initial 은 Mr, Mrs, Miss, Master, Other 총 5개로 이루어져 있습니다. 이런 카테고리로 표현되어져 있는 데이터를 모델에 인풋으로 넣어줄 때 우리가 해야할 것은 먼저 컴퓨터가 인식할 수 있도록 수치화 시켜야 합니다.\n",
    "# map method 를 가지고 간단히 할 수 있습니다.\n",
    "# 사전 순서대로 정리하여 mapping 하겠습니다"
   ]
  },
  {
   "cell_type": "code",
   "execution_count": 121,
   "id": "d2ddacc2",
   "metadata": {},
   "outputs": [],
   "source": [
    "train['Initial'] = train['Initial'].map({'Master':0, 'Miss':1, 'Mr':2, 'Mrs':3, 'Other':4})\n",
    "test['Initial'] = test['Initial'].map({'Master':0, 'Miss':1, 'Mr':2, 'Mrs':3, 'Other':4})"
   ]
  },
  {
   "cell_type": "code",
   "execution_count": 122,
   "id": "a4a4b8f9",
   "metadata": {},
   "outputs": [],
   "source": [
    "# Embarked 도 C, Q, S로 이루어져 있습니다. map 을 이용해 바꿔봅시다.\n",
    "# 그러기 앞서서, 특정 column 에 어떤 값들이 있는 지 확인해보는 방법을 잠깐 살펴보겠습니다. 간단히 unique() 메소드를 쓰거나, value_counts() 를 써서 count 까지 보는 방법이 있습니다."
   ]
  },
  {
   "cell_type": "code",
   "execution_count": 123,
   "id": "e2416161",
   "metadata": {},
   "outputs": [
    {
     "data": {
      "text/plain": [
       "array(['S', 'C', 'Q'], dtype=object)"
      ]
     },
     "execution_count": 123,
     "metadata": {},
     "output_type": "execute_result"
    }
   ],
   "source": [
    "train['Embarked'].unique()"
   ]
  },
  {
   "cell_type": "code",
   "execution_count": 124,
   "id": "526f0e22",
   "metadata": {},
   "outputs": [
    {
     "data": {
      "text/plain": [
       "S    646\n",
       "C    168\n",
       "Q     77\n",
       "Name: Embarked, dtype: int64"
      ]
     },
     "execution_count": 124,
     "metadata": {},
     "output_type": "execute_result"
    }
   ],
   "source": [
    "train['Embarked'].value_counts()"
   ]
  },
  {
   "cell_type": "code",
   "execution_count": 125,
   "id": "9b38907f",
   "metadata": {},
   "outputs": [],
   "source": [
    "train['Embarked'] = train['Embarked'].map({'C':0,'Q':1,'S':2})\n",
    "test['Embarked'] = test['Embarked'].map({'C':0,'Q':1,'S':2})"
   ]
  },
  {
   "cell_type": "code",
   "execution_count": 126,
   "id": "7af269ae",
   "metadata": {},
   "outputs": [
    {
     "data": {
      "text/plain": [
       "False"
      ]
     },
     "execution_count": 126,
     "metadata": {},
     "output_type": "execute_result"
    }
   ],
   "source": [
    "train['Embarked'].isnull().any()"
   ]
  },
  {
   "cell_type": "code",
   "execution_count": 128,
   "id": "cbc471f9",
   "metadata": {},
   "outputs": [],
   "source": [
    "# any() 를 사용하여, True 가 단하나라도 있을 시(Null이 한개라도 있을 시) True 를 반환해주게 됩니다. 우리는 Null 을 S로 다 바꿔주었으므로 False 를 얻게 됩니다"
   ]
  },
  {
   "cell_type": "code",
   "execution_count": 130,
   "id": "35b7370c",
   "metadata": {},
   "outputs": [],
   "source": [
    "train['Sex'] = train['Sex'].map({'female':0,'male':1})\n",
    "test['Sex'] = test['Sex'].map({'female':0,'male':1})"
   ]
  },
  {
   "cell_type": "code",
   "execution_count": null,
   "id": "16093814",
   "metadata": {},
   "outputs": [],
   "source": [
    "# 이제 각 feature 간의 상관관계를 한번 보려고 합니다.\n",
    "# 우리는 여러 feature 를 가지고 있으니 이를 하나의 maxtrix 형태로 보면 편할 텐데, 이를 heatmap plot 이라고 하며, dataframe 의 corr() 메소드와 seaborn 을 가지고 편하게 그릴 수 있습니다."
   ]
  },
  {
   "cell_type": "code",
   "execution_count": 133,
   "id": "8155b413",
   "metadata": {},
   "outputs": [
    {
     "data": {
      "text/html": [
       "<div>\n",
       "<style scoped>\n",
       "    .dataframe tbody tr th:only-of-type {\n",
       "        vertical-align: middle;\n",
       "    }\n",
       "\n",
       "    .dataframe tbody tr th {\n",
       "        vertical-align: top;\n",
       "    }\n",
       "\n",
       "    .dataframe thead th {\n",
       "        text-align: right;\n",
       "    }\n",
       "</style>\n",
       "<table border=\"1\" class=\"dataframe\">\n",
       "  <thead>\n",
       "    <tr style=\"text-align: right;\">\n",
       "      <th></th>\n",
       "      <th>Survived</th>\n",
       "      <th>Pclass</th>\n",
       "      <th>Sex</th>\n",
       "      <th>Fare</th>\n",
       "      <th>Embarked</th>\n",
       "      <th>FamilySize</th>\n",
       "      <th>Initial</th>\n",
       "      <th>Age_cat</th>\n",
       "    </tr>\n",
       "  </thead>\n",
       "  <tbody>\n",
       "    <tr>\n",
       "      <th>0</th>\n",
       "      <td>0</td>\n",
       "      <td>3</td>\n",
       "      <td>1</td>\n",
       "      <td>1.981001</td>\n",
       "      <td>2</td>\n",
       "      <td>2</td>\n",
       "      <td>2</td>\n",
       "      <td>2</td>\n",
       "    </tr>\n",
       "    <tr>\n",
       "      <th>1</th>\n",
       "      <td>1</td>\n",
       "      <td>1</td>\n",
       "      <td>0</td>\n",
       "      <td>4.266662</td>\n",
       "      <td>0</td>\n",
       "      <td>2</td>\n",
       "      <td>3</td>\n",
       "      <td>3</td>\n",
       "    </tr>\n",
       "    <tr>\n",
       "      <th>2</th>\n",
       "      <td>1</td>\n",
       "      <td>3</td>\n",
       "      <td>0</td>\n",
       "      <td>2.070022</td>\n",
       "      <td>2</td>\n",
       "      <td>1</td>\n",
       "      <td>1</td>\n",
       "      <td>2</td>\n",
       "    </tr>\n",
       "  </tbody>\n",
       "</table>\n",
       "</div>"
      ],
      "text/plain": [
       "   Survived  Pclass  Sex      Fare  Embarked  FamilySize  Initial  Age_cat\n",
       "0         0       3    1  1.981001         2           2        2        2\n",
       "1         1       1    0  4.266662         0           2        3        3\n",
       "2         1       3    0  2.070022         2           1        1        2"
      ]
     },
     "execution_count": 133,
     "metadata": {},
     "output_type": "execute_result"
    }
   ],
   "source": [
    "heatmap_data = train[['Survived','Pclass','Sex','Fare','Embarked','FamilySize','Initial','Age_cat']]\n",
    "heatmap_data.head(3)"
   ]
  },
  {
   "cell_type": "code",
   "execution_count": 135,
   "id": "ed6e0bdd",
   "metadata": {},
   "outputs": [
    {
     "data": {
      "image/png": "[encoded data removed]",
      "text/html": [
       "<div style=\"vertical-align: middle;\"><strong>RdBu</strong> </div><div class=\"cmap\"><img alt=\"RdBu colormap\" title=\"RdBu\" style=\"border: 1px solid #555;\" src=\"data:image/png;base64,iVBORw0KGgoAAAANSUhEUgAAAgAAAABACAYAAABsv8+/AAAAE3RFWHRUaXRsZQBSZEJ1IGNvbG9ybWFwChF0kwAAABl0RVh0RGVzY3JpcHRpb24AUmRCdSBjb2xvcm1hcIGj5AsAAAAwdEVYdEF1dGhvcgBNYXRwbG90bGliIHYzLjQuMywgaHR0cHM6Ly9tYXRwbG90bGliLm9yZwld89MAAAAydEVYdFNvZnR3YXJlAE1hdHBsb3RsaWIgdjMuNC4zLCBodHRwczovL21hdHBsb3RsaWIub3JnJ/ts9AAAAilJREFUeJzt1jFy2zAURVEQWkiWl/33EZGCgDhCDFEaFSneOQ1NgPiiNZ7x3X6XX62UUmo53LZx3f7L/bfvUWufczsmbX1jW6zXsX+b9utifT5X5/XX88fz5/p8P79HfXpuW6xfPj/tn+95e3muvjnv+j2Ozyl1XMdz762PeeU2rz+fu1z/9j36+db/7spWf7y2xfq5P52vn51fzpnmXb7HcVf2/sM/9+34YS/jfuy3xfNv7ved8/mrzxvv136cNz7nvo/943of8/rAx/1jv8/f24f707x9sT7mXO6X5/vp3Or652L/3n/xqznvz/vwOn0/bbo+1ttifdo/18vz8+3L+dP3v5zTv8+2319e9+V+P39/ff5y3ofnV+8x/t8CAEEEAAAEEgAAEEgAAEAgAQAAgQQAAAQSAAAQSAAAQCABAACBBAAABBIAABBIAABAIAEAAIEEAAAEEgAAEEgAAEAgAQAAgQQAAAQSAAAQSAAAQCABAACBBAAABBIAABBIAABAIAEAAIEEAAAEEgAAEEgAAEAgAQAAgQQAAAQSAAAQSAAAQCABAACBBAAABBIAABBIAABAIAEAAIEEAAAEEgAAEEgAAEAgAQAAgQQAAAQSAAAQSAAAQCABAACBBAAABBIAABBIAABAIAEAAIEEAAAEEgAAEEgAAEAgAQAAgQQAAAQSAAAQSAAAQCABAACBBAAABBIAABBIAABAIAEAAIEEAAAEEgAAEOgv2fZiJGr7/f4AAAAASUVORK5CYII=\"></div><div style=\"vertical-align: middle; max-width: 514px; display: flex; justify-content: space-between;\"><div style=\"float: left;\"><div title=\"#67001fff\" style=\"display: inline-block; width: 1em; height: 1em; margin: 0; vertical-align: middle; border: 1px solid #555; background-color: #67001fff;\"></div> under</div><div style=\"margin: 0 auto; display: inline-block;\">bad <div title=\"#00000000\" style=\"display: inline-block; width: 1em; height: 1em; margin: 0; vertical-align: middle; border: 1px solid #555; background-color: #00000000;\"></div></div><div style=\"float: right;\">over <div title=\"#053061ff\" style=\"display: inline-block; width: 1em; height: 1em; margin: 0; vertical-align: middle; border: 1px solid #555; background-color: #053061ff;\"></div></div>"
      ],
      "text/plain": [
       "<matplotlib.colors.LinearSegmentedColormap at 0x24b9eb4a910>"
      ]
     },
     "execution_count": 135,
     "metadata": {},
     "output_type": "execute_result"
    }
   ],
   "source": [
    "colormap = plt.cm.RdBu\n",
    "colormap"
   ]
  },
  {
   "cell_type": "code",
   "execution_count": 153,
   "id": "6d523f77",
   "metadata": {},
   "outputs": [
    {
     "data": {
      "image/png": "[encoded data removed]",
      "text/plain": [
       "<Figure size 1008x864 with 2 Axes>"
      ]
     },
     "metadata": {
      "needs_background": "light"
     },
     "output_type": "display_data"
    }
   ],
   "source": [
    "plt.figure(figsize = (14,12))\n",
    "plt.title('Pearson Correlation of Features', y = 1.05, size = 15)\n",
    "\n",
    "# annot=True : 상관계수 값 표시\n",
    "# annot_kws={'size':16} : 상관계수 값 글자 크기 키우기\n",
    "sns.heatmap(heatmap_data.astype(float).corr(), linewidths = 0.1, vmax = 1.0, square = True, cmap = colormap, linecolor = 'white', annot=True, annot_kws={'size':16})\n",
    "del heatmap_data"
   ]
  },
  {
   "cell_type": "code",
   "execution_count": null,
   "id": "753c82b6",
   "metadata": {},
   "outputs": [],
   "source": [
    "# 우리가 EDA에서 살펴봤듯이, Sex 와 Pclass 가 Survived 에 상관관계가 어느 정도 있음을 볼 수 있습니다.\n",
    "# 생각보다 fare 와 Embarked 도 상관관계가 있음을 볼 수 있습니다.\n",
    "# 또한 우리가 여기서 얻을 수 있는 정보는 서로 강한 상관관계를 가지는 feature들이 없다는 것입니다.\n",
    "# 이것은 우리가 모델을 학습시킬 때, 불필요한(redundant, superfluous) feature 가 없다는 것을 의미합니다. 1 또는 -1 의 상관관계를 가진 feature A, B 가 있다면, 우리가 얻을 수 있는 정보는 사실 하나일 거니까요.\n",
    "# 이제 실제로 모델을 학습시키기 앞서서 data preprocessing (전처리)을 진행해보겠습니다."
   ]
  },
  {
   "cell_type": "markdown",
   "id": "6a4c75d5",
   "metadata": {},
   "source": [
    "## 3.4 One-hot encoding on Initial and Embarked"
   ]
  },
  {
   "cell_type": "code",
   "execution_count": null,
   "id": "18c5e6c9",
   "metadata": {},
   "outputs": [],
   "source": []
  },
  {
   "cell_type": "code",
   "execution_count": null,
   "id": "4adc11a8",
   "metadata": {},
   "outputs": [],
   "source": []
  },
  {
   "cell_type": "code",
   "execution_count": null,
   "id": "2cf782d6",
   "metadata": {},
   "outputs": [],
   "source": []
  },
  {
   "cell_type": "code",
   "execution_count": null,
   "id": "30e31ceb",
   "metadata": {},
   "outputs": [],
   "source": []
  },
  {
   "cell_type": "code",
   "execution_count": null,
   "id": "aead11d6",
   "metadata": {},
   "outputs": [],
   "source": []
  },
  {
   "cell_type": "code",
   "execution_count": null,
   "id": "66721e88",
   "metadata": {},
   "outputs": [],
   "source": []
  },
  {
   "cell_type": "code",
   "execution_count": null,
   "id": "fb07dc9e",
   "metadata": {},
   "outputs": [],
   "source": []
  },
  {
   "cell_type": "code",
   "execution_count": null,
   "id": "2590e506",
   "metadata": {},
   "outputs": [],
   "source": []
  },
  {
   "cell_type": "code",
   "execution_count": null,
   "id": "960bf8f9",
   "metadata": {},
   "outputs": [],
   "source": []
  },
  {
   "cell_type": "code",
   "execution_count": null,
   "id": "33754678",
   "metadata": {},
   "outputs": [],
   "source": []
  },
  {
   "cell_type": "code",
   "execution_count": null,
   "id": "459d0e64",
   "metadata": {},
   "outputs": [],
   "source": []
  },
  {
   "cell_type": "code",
   "execution_count": null,
   "id": "5fd91fdb",
   "metadata": {},
   "outputs": [],
   "source": []
  },
  {
   "cell_type": "code",
   "execution_count": null,
   "id": "be11f6b6",
   "metadata": {},
   "outputs": [],
   "source": []
  },
  {
   "cell_type": "code",
   "execution_count": null,
   "id": "c5da7ba9",
   "metadata": {},
   "outputs": [],
   "source": []
  },
  {
   "cell_type": "code",
   "execution_count": null,
   "id": "326bcceb",
   "metadata": {},
   "outputs": [],
   "source": []
  },
  {
   "cell_type": "code",
   "execution_count": null,
   "id": "473a470d",
   "metadata": {},
   "outputs": [],
   "source": []
  },
  {
   "cell_type": "code",
   "execution_count": null,
   "id": "3020e004",
   "metadata": {},
   "outputs": [],
   "source": []
  },
  {
   "cell_type": "code",
   "execution_count": null,
   "id": "f0b3dfa5",
   "metadata": {},
   "outputs": [],
   "source": []
  }
 ],
 "metadata": {
  "kernelspec": {
   "display_name": "Python 3 (ipykernel)",
   "language": "python",
   "name": "python3"
  },
  "language_info": {
   "codemirror_mode": {
    "name": "ipython",
    "version": 3
   },
   "file_extension": ".py",
   "mimetype": "text/x-python",
   "name": "python",
   "nbconvert_exporter": "python",
   "pygments_lexer": "ipython3",
   "version": "3.9.7"
  }
 },
 "nbformat": 4,
 "nbformat_minor": 5
}
